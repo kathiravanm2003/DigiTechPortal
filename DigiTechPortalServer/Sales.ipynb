{
 "cells": [
  {
   "cell_type": "code",
   "execution_count": 9,
   "id": "2b710c91-3e38-4933-b6af-9c37fbe2a3fe",
   "metadata": {
    "tags": []
   },
   "outputs": [
    {
     "name": "stdout",
     "output_type": "stream",
     "text": [
      "           Air-conditioner     TV\n",
      "Year Month                       \n",
      "2021 Apr             270.0  250.0\n",
      "     Aug             270.0  250.0\n",
      "     Dec             220.0  250.0\n",
      "     Feb             270.0  250.0\n",
      "     Jan             270.0  200.0\n",
      "     Jul             220.0  250.0\n",
      "     Jun             270.0  200.0\n",
      "     Mar             270.0  150.0\n",
      "     May             270.0  300.0\n",
      "     Nov             320.0  250.0\n",
      "     Oct             270.0  250.0\n",
      "     Sep             170.0  250.0\n",
      "2022 Apr             270.0  300.0\n",
      "     Aug             320.0  250.0\n",
      "     Dec             270.0  250.0\n",
      "     Feb             270.0  300.0\n",
      "     Jan             270.0  250.0\n",
      "     Jul             270.0  250.0\n",
      "     Jun             270.0  250.0\n",
      "     Mar             270.0  200.0\n",
      "     May             270.0  350.0\n",
      "     Nov             370.0  250.0\n",
      "     Oct             320.0  250.0\n",
      "     Sep             220.0  250.0\n",
      "2023 Jan             200.0  270.0\n",
      "     Feb             250.0  270.0\n",
      "     Mar             150.0  270.0\n",
      "     Apr             250.0  270.0\n",
      "     May             300.0  270.0\n",
      "     Jun             200.0  270.0\n",
      "     Jul             250.0  220.0\n",
      "     Aug             250.0  270.0\n",
      "     Sep             250.0  170.0\n",
      "     Oct             250.0  270.0\n",
      "     Nov             250.0  320.0\n",
      "     Dec             250.0  220.0\n"
     ]
    },
    {
     "data": {
      "image/png": "[encoded data removed]",
      "text/plain": [
       "<Figure size 800x800 with 2 Axes>"
      ]
     },
     "metadata": {},
     "output_type": "display_data"
    }
   ],
   "source": [
    "import pandas as pd\n",
    "from sklearn.linear_model import LinearRegression\n",
    "\n",
    "# create a dataframe with the sales data for TVs and air-conditioners for 2021 and 2022\n",
    "sales_data = {'Month': ['Jan', 'Feb', 'Mar', 'Apr', 'May', 'Jun', 'Jul', 'Aug', 'Sep', 'Oct', 'Nov', 'Dec']*2,\n",
    "              'Year': [2021]*12 + [2022]*12,\n",
    "              'Product': ['TV']*6 + ['Air-conditioner']*6 + ['TV']*6 + ['Air-conditioner']*6,\n",
    "              'Sales': [200, 250, 150, 250, 300, 200, 220, 270, 170, 270, 320, 220] + \n",
    "                      [250, 300, 200, 300, 350, 250, 270, 320, 220, 320, 370, 270]}\n",
    "df_sales = pd.DataFrame(sales_data)\n",
    "\n",
    "# pivot the dataframe to create separate columns for TV and air-conditioner sales\n",
    "df_sales = df_sales.pivot(index=['Year', 'Month'], columns='Product', values='Sales')\n",
    "\n",
    "# fill missing values with the mean sales for each product\n",
    "df_sales = df_sales.fillna(df_sales.mean())\n",
    "\n",
    "# create a linear regression model for each product\n",
    "model_tv = LinearRegression()\n",
    "model_aircon = LinearRegression()\n",
    "\n",
    "# fit the models to the sales data for 2021 and 2022\n",
    "X_train = pd.DataFrame({'TV': df_sales.loc[(2021, ), 'TV'], \n",
    "                        'Air-conditioner': df_sales.loc[(2021, ), 'Air-conditioner']})\n",
    "y_train = pd.DataFrame({'TV': df_sales.loc[(2021, ), 'Air-conditioner'], \n",
    "                        'Air-conditioner': df_sales.loc[(2021, ), 'TV']})\n",
    "model_tv.fit(X_train, y_train['TV'])\n",
    "model_aircon.fit(X_train, y_train['Air-conditioner'])\n",
    "\n",
    "# create a dataframe with the months for 2023\n",
    "months_2023 = pd.MultiIndex.from_product([pd.Series([2023]), pd.Series(['Jan', 'Feb', 'Mar', 'Apr', 'May', 'Jun', 'Jul', 'Aug', 'Sep', 'Oct', 'Nov', 'Dec'])], names=['Year', 'Month'])\n",
    "df_2023 = pd.DataFrame(index=months_2023, columns=['TV', 'Air-conditioner'])\n",
    "\n",
    "# predict sales for each month of 2023 using the fitted models\n",
    "for month in months_2023:\n",
    "    X_test = pd.DataFrame({'TV': df_sales.loc[(month[0]-2, month[1]), 'TV'], \n",
    "                           'Air-conditioner': df_sales.loc[(month[0]-2, month[1]), 'Air-conditioner']}, index=[0])\n",
    "    sales_tv_2023 = model_tv.predict(X_test)[0]\n",
    "    sales_aircon_2023 = model_aircon.predict(X_test)[0]\n",
    "    df_2023.loc[month, 'TV'] = sales_tv_2023\n",
    "    df_2023.loc[month, 'Air-conditioner'] = sales_aircon_2023\n",
    "    \n",
    "# combine the sales data and predictions into one dataframe\n",
    "df_sales_all = pd.concat([df_sales, df_2023])\n",
    "\n",
    "print(df_sales_all)\n",
    "\n",
    "# plot the sales data and predictions for TVs and air conditioners\n",
    "fig, axes = plt.subplots(nrows=2, ncols=1, figsize=(8, 8))\n",
    "\n",
    "# plot the sales data for TVs\n",
    "ax = df_sales_all\n"
   ]
  },
  {
   "cell_type": "code",
   "execution_count": null,
   "id": "d01073f6-4015-4a2d-bb2f-7dbde2d8ba56",
   "metadata": {},
   "outputs": [],
   "source": []
  }
 ],
 "metadata": {
  "kernelspec": {
   "display_name": "Python 3 (ipykernel)",
   "language": "python",
   "name": "python3"
  },
  "language_info": {
   "codemirror_mode": {
    "name": "ipython",
    "version": 3
   },
   "file_extension": ".py",
   "mimetype": "text/x-python",
   "name": "python",
   "nbconvert_exporter": "python",
   "pygments_lexer": "ipython3",
   "version": "3.11.2"
  }
 },
 "nbformat": 4,
 "nbformat_minor": 5
}
